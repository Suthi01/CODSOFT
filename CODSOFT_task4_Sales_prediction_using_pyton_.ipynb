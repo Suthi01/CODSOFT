{
  "nbformat": 4,
  "nbformat_minor": 0,
  "metadata": {
    "colab": {
      "provenance": [],
      "authorship_tag": "ABX9TyNeFFRNlcszJUh+47S33y8J",
      "include_colab_link": true
    },
    "kernelspec": {
      "name": "python3",
      "display_name": "Python 3"
    },
    "language_info": {
      "name": "python"
    }
  },
  "cells": [
    {
      "cell_type": "markdown",
      "metadata": {
        "id": "view-in-github",
        "colab_type": "text"
      },
      "source": [
        "<a href=\"https://colab.research.google.com/github/Suthi01/CODSOFT/blob/main/CODSOFT_task4_Sales_prediction_using_pyton_.ipynb\" target=\"_parent\"><img src=\"https://colab.research.google.com/assets/colab-badge.svg\" alt=\"Open In Colab\"/></a>"
      ]
    },
    {
      "cell_type": "markdown",
      "source": [
        "**Sales Prediction using Python**"
      ],
      "metadata": {
        "id": "c4JriwpXQHTh"
      }
    },
    {
      "cell_type": "markdown",
      "source": [
        "**Importing Libraries:**"
      ],
      "metadata": {
        "id": "po3nPpMkR3CR"
      }
    },
    {
      "cell_type": "code",
      "source": [
        "import pandas as pd\n",
        "import numpy as np\n",
        "import matplotlib.pyplot as plt\n",
        "import seaborn as sns\n",
        "from sklearn.model_selection import train_test_split\n",
        "from sklearn.linear_model import LinearRegression"
      ],
      "metadata": {
        "id": "V_Qa3LW0R1WT"
      },
      "execution_count": 1,
      "outputs": []
    },
    {
      "cell_type": "markdown",
      "source": [
        "**Importing Dataset:**"
      ],
      "metadata": {
        "id": "2Zvwv6n3Soxd"
      }
    },
    {
      "cell_type": "code",
      "source": [
        "data = pd.read_csv('/content/advertising.csv')\n",
        "print(data.head())"
      ],
      "metadata": {
        "colab": {
          "base_uri": "https://localhost:8080/"
        },
        "id": "lG-2D5GUSuxu",
        "outputId": "3aa4ad14-c8c6-4240-b02d-56b65c918bc3"
      },
      "execution_count": 2,
      "outputs": [
        {
          "output_type": "stream",
          "name": "stdout",
          "text": [
            "      TV  Radio  Newspaper  Sales\n",
            "0  230.1   37.8       69.2   22.1\n",
            "1   44.5   39.3       45.1   10.4\n",
            "2   17.2   45.9       69.3   12.0\n",
            "3  151.5   41.3       58.5   16.5\n",
            "4  180.8   10.8       58.4   17.9\n"
          ]
        }
      ]
    },
    {
      "cell_type": "markdown",
      "source": [
        "*Finding the dataset contains Null values or not.*"
      ],
      "metadata": {
        "id": "dPY9rrSsTFfK"
      }
    },
    {
      "cell_type": "code",
      "source": [
        "print(data.isnull().sum())"
      ],
      "metadata": {
        "colab": {
          "base_uri": "https://localhost:8080/"
        },
        "id": "pUE5OusoTSEu",
        "outputId": "eecc310e-d648-4459-e321-986583769be3"
      },
      "execution_count": 3,
      "outputs": [
        {
          "output_type": "stream",
          "name": "stdout",
          "text": [
            "TV           0\n",
            "Radio        0\n",
            "Newspaper    0\n",
            "Sales        0\n",
            "dtype: int64\n"
          ]
        }
      ]
    },
    {
      "cell_type": "markdown",
      "source": [
        "*Does the dataset does not contains the Null values. Now, take a look at Correlation between Features.*"
      ],
      "metadata": {
        "id": "QfrstCjgTa_e"
      }
    },
    {
      "cell_type": "code",
      "source": [
        "plt.style.use('seaborn-whitegrid')\n",
        "plt.figure(figsize=(8,6))\n",
        "sns.heatmap(data.corr())\n",
        "plt.show"
      ],
      "metadata": {
        "colab": {
          "base_uri": "https://localhost:8080/",
          "height": 595
        },
        "id": "biR3XQPkT1X9",
        "outputId": "bc4aa89a-b6d0-44aa-cf37-9c029cbf7284"
      },
      "execution_count": 6,
      "outputs": [
        {
          "output_type": "stream",
          "name": "stderr",
          "text": [
            "<ipython-input-6-7ccb4a488942>:1: MatplotlibDeprecationWarning: The seaborn styles shipped by Matplotlib are deprecated since 3.6, as they no longer correspond to the styles shipped by seaborn. However, they will remain available as 'seaborn-v0_8-<style>'. Alternatively, directly use the seaborn API instead.\n",
            "  plt.style.use('seaborn-whitegrid')\n"
          ]
        },
        {
          "output_type": "execute_result",
          "data": {
            "text/plain": [
              "<function matplotlib.pyplot.show(close=None, block=None)>"
            ]
          },
          "metadata": {},
          "execution_count": 6
        },
        {
          "output_type": "display_data",
          "data": {
            "text/plain": [
              "<Figure size 800x600 with 2 Axes>"
            ],
            "image/png": "[encoded data removed]"
          },
          "metadata": {}
        }
      ]
    },
    {
      "cell_type": "markdown",
      "source": [
        "*prepre te data to fit into the machine learning model and then use a **linear regression algorithm** to train a sales prediction model.*"
      ],
      "metadata": {
        "id": "Iejq5GwmUc2-"
      }
    },
    {
      "cell_type": "code",
      "source": [
        "x = np.array(data.drop([\"Sales\"], 1))\n",
        "y = np.array(data[\"Sales\"])\n",
        "xtrain, xtest, ytrain, ytest = train_test_split(x,y, test_size=0.2, random_state=42)\n",
        "model = LinearRegression()\n",
        "model.fit(xtrain, ytrain)\n",
        "data = pd.DataFrame(data={\"Predicted Sales\": model.predict(xtest).flatten()})\n",
        "print(data)"
      ],
      "metadata": {
        "colab": {
          "base_uri": "https://localhost:8080/"
        },
        "id": "-CBIN1MPU82N",
        "outputId": "822c2681-99f4-467d-b01f-827adad35ae2"
      },
      "execution_count": 12,
      "outputs": [
        {
          "output_type": "stream",
          "name": "stdout",
          "text": [
            "    Predicted Sales\n",
            "0         17.034772\n",
            "1         20.409740\n",
            "2         23.723989\n",
            "3          9.272785\n",
            "4         21.682719\n",
            "5         12.569402\n",
            "6         21.081195\n",
            "7          8.690350\n",
            "8         17.237013\n",
            "9         16.666575\n",
            "10         8.923965\n",
            "11         8.481734\n",
            "12        18.207512\n",
            "13         8.067507\n",
            "14        12.645510\n",
            "15        14.931628\n",
            "16         8.128146\n",
            "17        17.898766\n",
            "18        11.008806\n",
            "19        20.478328\n",
            "20        20.806318\n",
            "21        12.598833\n",
            "22        10.905183\n",
            "23        22.388548\n",
            "24         9.417961\n",
            "25         7.925067\n",
            "26        20.839085\n",
            "27        13.815209\n",
            "28        10.770809\n",
            "29         7.926825\n",
            "30        15.959474\n",
            "31        10.634909\n",
            "32        20.802920\n",
            "33        10.434342\n",
            "34        21.578475\n",
            "35        21.183645\n",
            "36        12.128218\n",
            "37        22.809533\n",
            "38        12.609928\n",
            "39         6.464413\n"
          ]
        },
        {
          "output_type": "stream",
          "name": "stderr",
          "text": [
            "<ipython-input-12-d0ba73048dfc>:1: FutureWarning: In a future version of pandas all arguments of DataFrame.drop except for the argument 'labels' will be keyword-only.\n",
            "  x = np.array(data.drop([\"Sales\"], 1))\n"
          ]
        }
      ]
    },
    {
      "cell_type": "markdown",
      "source": [
        "**Summary:**"
      ],
      "metadata": {
        "id": "vm3JBqUSYKAa"
      }
    },
    {
      "cell_type": "markdown",
      "source": [
        "**This is ow we can predict te future sales of a product using machine learning. Forecasting sales is difficult for every type of Business but by using machine learning making it easy.**"
      ],
      "metadata": {
        "id": "Z5Bp4vxvYRKA"
      }
    }
  ]
}